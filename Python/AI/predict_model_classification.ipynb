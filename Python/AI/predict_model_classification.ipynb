{
 "cells": [
  {
   "cell_type": "code",
   "execution_count": null,
   "metadata": {},
   "outputs": [],
   "source": [
    "import tensorflow as tf\n",
    "\n",
    "from sklearn.metrics import accuracy_score, recall_score, classification_report, confusion_matrix\n",
    "from tensorflow.keras.preprocessing.image import ImageDataGenerator\n",
    "\n",
    "from sklearn.metrics import accuracy_score, classification_report\n",
    "\n",
    "import os\n",
    "import shutil\n",
    "from tqdm import tqdm\n",
    "import statistics\n",
    "\n",
    "import torch\n",
    "\n",
    "import matplotlib.pyplot as plt\n",
    "\n",
    "import torchvision.models as models\n",
    "import torch.nn as nn\n",
    "from torchvision import transforms, datasets"
   ]
  },
  {
   "cell_type": "markdown",
   "metadata": {},
   "source": [
    "# Training"
   ]
  },
  {
   "cell_type": "code",
   "execution_count": null,
   "metadata": {},
   "outputs": [],
   "source": [
    "train_data_dir = 'Train/'\n",
    "valid_data_dir = 'Valid/'\n",
    "test_data_dir='Test/'\n",
    "# Paramètres du modèle\n",
    "img_width, img_height = 512, 512\n",
    "input_shape = (img_width, img_height, 3)\n",
    "epochs = 20\n",
    "batch_size = 32"
   ]
  },
  {
   "cell_type": "markdown",
   "metadata": {},
   "source": [
    "# Prediction plusieurs lames"
   ]
  },
  {
   "cell_type": "code",
   "execution_count": null,
   "metadata": {},
   "outputs": [],
   "source": [
    "model = torch.load('/best_model.pth')"
   ]
  },
  {
   "cell_type": "code",
   "execution_count": null,
   "metadata": {},
   "outputs": [],
   "source": [
    "accuracy_m=[]\n",
    "recall_m=[]\n",
    "specificity_m=[]\n",
    "report_m=[]\n",
    "TEST_DIR=\"/Test/\"\n",
    "RESULT_DIR='/result_cla/'\n",
    "os.makedirs(RESULT_DIR, exist_ok=True)\n",
    "for lame in tqdm(os.listdir(TEST_DIR)):\n",
    "    print('ok')\n",
    "    test_data_dir = TEST_DIR+lame+'/'\n",
    "\n",
    "    img_width, img_height = 512, 512\n",
    "    batch_size = 32\n",
    "\n",
    "    test_datagen = ImageDataGenerator(rescale=1./255)\n",
    "\n",
    "    test_generator = test_datagen.flow_from_directory(\n",
    "        test_data_dir,\n",
    "        target_size=(img_width, img_height),\n",
    "        batch_size=batch_size,\n",
    "        class_mode='binary',  # 'binary' pour un problème de classification binaire\n",
    "        shuffle=False  # Assurez-vous que les prédictions correspondent à l'ordre des images\n",
    "    )\n",
    "\n",
    "    # Faire des prédictions sur le jeu de test\n",
    "    predictions = model(test_generator)\n",
    "\n",
    "    # Obtenir les étiquettes prédites (0 pour non tumoral, 1 pour tumoral)\n",
    "    predicted_labels = (predictions > 0.5).astype(int)\n",
    "\n",
    "    # Obtenir les étiquettes réelles\n",
    "    true_labels = test_generator.classes\n",
    "\n",
    "    # Évaluer la performance du modèle\n",
    "    accuracy = accuracy_score(true_labels, predicted_labels)\n",
    "    recall = recall_score(true_labels, predicted_labels)\n",
    "    tn, fp, fn, tp = confusion_matrix(true_labels, predicted_labels).ravel()\n",
    "\n",
    "    # Calculate specificity\n",
    "    specificity = tn / (tn + fp)\n",
    "    report = classification_report(true_labels, predicted_labels)\n",
    "    accuracy_m.append(accuracy)\n",
    "    recall_m.append(recall)\n",
    "    specificity_m.append(specificity)\n",
    "    report_m.append(report)\n",
    "    print(f\"Accuracy: {accuracy}\")\n",
    "    print(\"Classification Report:\\n\", report)\n",
    "\n",
    "    # Dossier où enregistrer les résultats\n",
    "    output_dir_tumoral = RESULT_DIR+lame+'_predict/'\n",
    "    #print(test_data_dir)\n",
    "\n",
    "    # Créer les dossiers de sortie s'ils n'existent pas\n",
    "    os.makedirs(output_dir_tumoral, exist_ok=True)\n",
    "    \n",
    "    os.makedirs(output_dir_tumoral+'background/', exist_ok=True)\n",
    "    os.makedirs(output_dir_tumoral+'lit/', exist_ok=True)\n",
    "\n",
    "\n",
    "    # Itérer sur les prédictions et copier les images dans les dossiers appropriés\n",
    "    for i, (filename, prediction) in enumerate(zip(test_generator.filenames, predicted_labels)):\n",
    "        \n",
    "        source_path = os.path.join(test_data_dir, filename)\n",
    "        destination_folder = output_dir_tumoral + ('lit/' if prediction == 1 else 'background/')\n",
    "\n",
    "        os.makedirs(destination_folder, exist_ok=True)\n",
    "\n",
    "        destination_path = os.path.join(destination_folder)\n",
    "\n",
    "        # Copier l'image vers le dossier approprié\n",
    "        shutil.copy(source_path, destination_path)\n",
    "\n",
    "    # Afficher la prédiction et le chemin de destination\n",
    "    print(f\"Image {i + 1} - Prédiction: {'lit' if prediction == 1 else 'background'}, Destination: {destination_path}\")\n",
    "\n",
    "\n",
    "print(\"Accuracy moyenne\", statistics.mean(accuracy_m))\n",
    "print(\"Sensitivity moyenne\",statistics.mean(recall_m))\n",
    "print(\"Specificity moyenne\", statistics.mean(specificity_m))"
   ]
  },
  {
   "cell_type": "markdown",
   "metadata": {},
   "source": [
    "# Prediction d'une lame"
   ]
  },
  {
   "cell_type": "code",
   "execution_count": null,
   "metadata": {},
   "outputs": [],
   "source": [
    "model = torch.load('/best_model.pth')"
   ]
  },
  {
   "cell_type": "code",
   "execution_count": null,
   "metadata": {},
   "outputs": [],
   "source": [
    "test_data_dir = '/Test/12AG01551-14_NADJ02_HES/'\n",
    "os.makedirs(test_data_dir, exist_ok=True)\n",
    "img_width, img_height = 512, 512\n",
    "batch_size = 32"
   ]
  },
  {
   "cell_type": "code",
   "execution_count": null,
   "metadata": {},
   "outputs": [],
   "source": [
    "test_datagen = ImageDataGenerator(rescale=1./255)\n",
    "\n",
    "test_generator = test_datagen.flow_from_directory(\n",
    "    test_data_dir,\n",
    "    target_size=(img_width, img_height),\n",
    "    batch_size=batch_size,\n",
    "    class_mode='binary',  # 'binary' pour un problème de classification binaire\n",
    "    shuffle=False  # Assurez-vous que les prédictions correspondent à l'ordre des images\n",
    ")"
   ]
  },
  {
   "cell_type": "code",
   "execution_count": null,
   "metadata": {},
   "outputs": [],
   "source": [
    "# Faire des prédictions sur le jeu de test\n",
    "predictions = model(test_generator)"
   ]
  },
  {
   "cell_type": "code",
   "execution_count": null,
   "metadata": {},
   "outputs": [],
   "source": [
    "\n",
    "\n",
    "resnet = models.resnet18(pretrained=False)  # Il n'est pas nécessaire de charger les poids pré-entraînés ici\n",
    "\n",
    "# Modification de la dernière couche pour correspondre au nombre de classes\n",
    "num_ftrs = resnet.fc.in_features\n",
    "resnet.fc = nn.Linear(num_ftrs, 2)  # 2 classes : lit et background\n",
    "\n",
    "# Charger les poids du meilleur modèle entraîné\n",
    "checkpoint = torch.load('/best_model.pth')\n",
    "\n",
    "# Charger les poids du modèle pré-entraîné, sauf la couche finale (fc)\n",
    "model_dict = resnet.state_dict()\n",
    "pretrained_dict = {k: v for k, v in checkpoint.items() if k in model_dict}\n",
    "model_dict.update(pretrained_dict)\n",
    "resnet.load_state_dict(model_dict)\n",
    "\n",
    "# Passer en mode évaluation\n",
    "resnet.eval()\n",
    "resnet.eval()  # Passer en mode évaluation\n",
    "\n",
    "# Définition des transformations pour les données de test\n",
    "test_transform = transforms.Compose([\n",
    "    transforms.Resize(256),\n",
    "    transforms.CenterCrop(224),\n",
    "    transforms.ToTensor(),\n",
    "    transforms.Normalize(mean=[0.485, 0.456, 0.406], std=[0.229, 0.224, 0.225]),\n",
    "])\n",
    "\n",
    "# Charger les données de test\n",
    "test_data = datasets.ImageFolder(root='/Test/12AG01551-14_NADJ02_HES/', transform=test_transform)\n",
    "test_loader = torch.utils.data.DataLoader(test_data, batch_size=4, shuffle=False, num_workers=2)\n",
    "\n",
    "# Faire des prédictions sur les données de test\n",
    "predictions = []\n",
    "with torch.no_grad():\n",
    "    for images, _ in test_loader:\n",
    "        outputs = resnet(images)\n",
    "        _, predicted = torch.max(outputs, 1)\n",
    "        predictions.extend(predicted.tolist())\n",
    "\n",
    "# Afficher les prédictions\n",
    "print(\"Predictions:\", predictions)"
   ]
  },
  {
   "cell_type": "code",
   "execution_count": null,
   "metadata": {},
   "outputs": [],
   "source": [
    "#Uniquement si on a les labels associer !!\n",
    "\n",
    "# Obtenir les étiquettes prédites (0 pour non tumoral, 1 pour tumoral)\n",
    "#predicted_labels = (predictions > 0.5).astype(int)\n",
    "\n",
    "# Obtenir les étiquettes réelles\n",
    "true_labels = test_generator.classes\n",
    "\n",
    "# Évaluer la performance du modèle\n",
    "from sklearn.metrics import accuracy_score, classification_report\n",
    "\n",
    "accuracy = accuracy_score(true_labels, predictions)\n",
    "recall = recall_score(true_labels, predictions)\n",
    "#specificity = specificity_score(true_labels, predictions)\n",
    "report = classification_report(true_labels, predictions)\n",
    "print(\"Accuracy moyenne\",accuracy)\n",
    "print(\"Sensitivity moyenne\",recall)\n",
    "#print(\"Specificity moyenne\", specificity)\n",
    "print(\"Classification Report:\\n\", report)"
   ]
  },
  {
   "cell_type": "code",
   "execution_count": null,
   "metadata": {},
   "outputs": [],
   "source": [
    "# Dossier où enregistrer les résultats\n",
    "output_dir_tumoral = '/result3/12AG01551-14_NADJ02_HES/predict_lit/'\n",
    "output_dir_non_tumoral = '/result3/12AG01551-14_NADJ02_HES/predict_background/'\n",
    "\n",
    "# Créer les dossiers de sortie s'ils n'existent pas\n",
    "os.makedirs(output_dir_tumoral, exist_ok=True)\n",
    "os.makedirs(output_dir_non_tumoral, exist_ok=True)\n",
    "\n",
    "# Itérer sur les prédictions et copier les images dans les dossiers appropriés\n",
    "for i, filename in enumerate(test_generator.filenames):\n",
    "    source_path = os.path.join(test_data_dir, filename)\n",
    "    nom=filename.split('/')\n",
    "    if predictions[i] == 1:\n",
    "        destination_path = os.path.join(output_dir_tumoral, nom[1])\n",
    "    else:\n",
    "        destination_path = os.path.join(output_dir_non_tumoral, nom[1])\n",
    "\n",
    "    # Copier l'image vers le dossier approprié\n",
    "    shutil.copy(source_path, destination_path)\n",
    "\n",
    "print(\"Résultats enregistrés dans les dossiers appropriés.\")"
   ]
  }
 ],
 "metadata": {
  "kernelspec": {
   "display_name": "Python 3",
   "language": "python",
   "name": "python3"
  },
  "language_info": {
   "codemirror_mode": {
    "name": "ipython",
    "version": 3
   },
   "file_extension": ".py",
   "mimetype": "text/x-python",
   "name": "python",
   "nbconvert_exporter": "python",
   "pygments_lexer": "ipython3",
   "version": "3.10.12"
  }
 },
 "nbformat": 4,
 "nbformat_minor": 2
}
