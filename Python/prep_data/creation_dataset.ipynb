{
 "cells": [
  {
   "cell_type": "code",
   "execution_count": null,
   "metadata": {},
   "outputs": [],
   "source": [
    "import os\n",
    "import pandas as pd\n",
    "from sklearn.model_selection import train_test_split\n",
    "import shutil\n",
    "from tqdm import tqdm\n",
    "\n",
    "# Données d'entrées \n",
    "\n",
    "#dossier contenant les tuiles \n",
    "LAME_DIR_F=\"/\"\n",
    "LABEL_DIR_F=\"/\"\n",
    "\n",
    "# dossier contenant les labels\n",
    "LAME_DIR_G=\"/\"\n",
    "LABEL_DIR_G=\"/\"\n",
    "\n",
    "# Dossier Test\n",
    "TEST_DIR=\"/Test/\"\n",
    "\n",
    "if not os.path.exists(TEST_DIR):\n",
    "    os.makedirs(TEST_DIR)\n",
    "    \n",
    "# Dossier Train\n",
    "TRAIN_DIR=\"/Train/\"\n",
    "\n",
    "if not os.path.exists(TRAIN_DIR):\n",
    "    os.makedirs(TRAIN_DIR)\n",
    "    os.makedirs(TRAIN_DIR+\"image/\")\n",
    "    os.makedirs(TRAIN_DIR+\"label/\")\n",
    "\n",
    "# Dossier Valid\n",
    "VALID_DIR=\"/Valid/\"\n",
    "\n",
    "if not os.path.exists(VALID_DIR):\n",
    "    os.makedirs(VALID_DIR)\n",
    "    os.makedirs(VALID_DIR+\"image/\")\n",
    "    os.makedirs(VALID_DIR+\"label/\")\n"
   ]
  },
  {
   "cell_type": "code",
   "execution_count": null,
   "metadata": {},
   "outputs": [],
   "source": [
    "# Création séparation 10% TEST et 90% entrainement \n",
    "\n",
    "lame_f = os.listdir(LAME_DIR_F)\n",
    "df_f = pd.DataFrame({\"Nom des Lames\": lame_f})\n",
    "Train_f, Test_f= train_test_split(df_f, test_size=0.1, random_state=10)\n",
    "print(Train_f.shape)\n",
    "print(Test_f.shape)\n",
    "\n",
    "lame_g = os.listdir(LAME_DIR_G)\n",
    "df_g = pd.DataFrame({\"Nom des Lames\": lame_g})\n",
    "Train_g, Test_g= train_test_split(df_g, test_size=0.2, random_state=10)\n",
    "print(Train_g.shape)\n",
    "print(Test_g.shape)\n",
    "\n",
    "Train=pd.concat([Train_f,Train_g],axis=0)\n",
    "Test=pd.concat([Test_f,Test_g],axis=0)\n",
    "\n",
    "print(Train.shape)\n",
    "print(Test.shape)"
   ]
  },
  {
   "cell_type": "code",
   "execution_count": null,
   "metadata": {},
   "outputs": [],
   "source": [
    "# Copie données pour former partie test\n",
    "for dossier in tqdm(Test[\"Nom des Lames\"]):\n",
    "    if os.path.isdir(LAME_DIR_F+dossier):\n",
    "        \n",
    "        shutil.copytree(LAME_DIR_F+dossier, TEST_DIR+dossier+'/image')\n",
    "        shutil.copytree(LABEL_DIR_F+dossier, TEST_DIR+dossier+'/label')\n",
    "    elif os.path.isdir(LAME_DIR_G+dossier):\n",
    "        \n",
    "        shutil.copytree(LAME_DIR_G+dossier, TEST_DIR+dossier+'/image')\n",
    "        shutil.copytree(LABEL_DIR_G+dossier, TEST_DIR+dossier+'/label')\n",
    "    else : \n",
    "        print(\"ERREUR \",dossier,\"non trouvé\")"
   ]
  },
  {
   "cell_type": "code",
   "execution_count": null,
   "metadata": {},
   "outputs": [],
   "source": [
    "# Créé dataset avec tuiles et non lames afin de pouvoir les mélanger \n",
    "df_Train=[]\n",
    "for lame in tqdm(Train[\"Nom des Lames\"]):\n",
    "    if os.path.isdir(LAME_DIR_F+lame):\n",
    "        tile=os.listdir(LAME_DIR_F+lame)\n",
    "        df_Train.extend(tile)\n",
    "    elif os.path.isdir(LAME_DIR_G+lame):\n",
    "        tile=os.listdir(LAME_DIR_G+lame)\n",
    "        df_Train.extend(tile)\n",
    "    else : \n",
    "        print(\"ERREUR \",lame,\"non trouvé\")\n",
    "\n",
    "df = pd.DataFrame({'Tile': df_Train})\n",
    "print(df.shape)\n"
   ]
  },
  {
   "cell_type": "code",
   "execution_count": null,
   "metadata": {},
   "outputs": [],
   "source": [
    "# Séparation des données en 80% Train et 20% Valid\n",
    "\n",
    "df_train,df_valid= train_test_split(df, test_size=0.2, random_state=42)\n",
    "\n",
    "print(df_train.shape)\n",
    "print(df_valid.shape)"
   ]
  },
  {
   "cell_type": "code",
   "execution_count": null,
   "metadata": {},
   "outputs": [],
   "source": [
    "# Enregistrement des tuiles dans Train\n",
    "for fichier in tqdm(df_train[\"Tile\"]):\n",
    "    \n",
    "    f=fichier.split(\" \")\n",
    "    if os.path.isdir(LAME_DIR_F+f[0]):\n",
    "        \n",
    "        shutil.copy(LAME_DIR_F+f[0]+\"/\"+fichier, TRAIN_DIR+\"image/\"+fichier)\n",
    "        p=fichier.split(\".\")\n",
    "        shutil.copy(LABEL_DIR_F+f[0]+\"/\"+p[0]+\".png\", TRAIN_DIR+\"label/\"+p[0]+\".png\")\n",
    "    elif os.path.isdir(LAME_DIR_G+f[0]):\n",
    "        \n",
    "        shutil.copy(LAME_DIR_G+f[0]+\"/\"+fichier, TRAIN_DIR+\"image/\"+fichier)\n",
    "        p=fichier.split(\".\")\n",
    "        shutil.copy(LABEL_DIR_G+f[0]+\"/\"+p[0]+\".png\", TRAIN_DIR+\"label/\"+p[0]+\".png\")\n",
    "    else : \n",
    "        print(\"ERREUR \",fichier,\"non trouvé\")\n"
   ]
  },
  {
   "cell_type": "code",
   "execution_count": null,
   "metadata": {},
   "outputs": [],
   "source": [
    "# Enregistrement des tuiles dans Valid \n",
    "\n",
    "for fichier in tqdm(df_valid[\"Tile\"]):\n",
    "    \n",
    "    f=fichier.split(\" \")\n",
    "    if os.path.isdir(LAME_DIR_F+f[0]):\n",
    "        \n",
    "        shutil.copy(LAME_DIR_F+f[0]+\"/\"+fichier, VALID_DIR+\"image/\"+fichier)\n",
    "        p=fichier.split(\".\")\n",
    "        shutil.copy(LABEL_DIR_F+f[0]+\"/\"+p[0]+\".png\", VALID_DIR+\"label/\"+p[0]+\".png\")\n",
    "    elif os.path.isdir(LAME_DIR_G+f[0]):\n",
    "        \n",
    "        shutil.copy(LAME_DIR_G+f[0]+\"/\"+fichier, VALID_DIR+\"image/\"+fichier)\n",
    "        p=fichier.split(\".\")\n",
    "        shutil.copy(LABEL_DIR_G+f[0]+\"/\"+p[0]+\".png\", VALID_DIR+\"label/\"+p[0]+\".png\")\n",
    "    else : \n",
    "        print(\"ERREUR \",fichier,\"non trouvé\")"
   ]
  }
 ],
 "metadata": {
  "kernelspec": {
   "display_name": "Python 3",
   "language": "python",
   "name": "python3"
  },
  "language_info": {
   "codemirror_mode": {
    "name": "ipython",
    "version": 3
   },
   "file_extension": ".py",
   "mimetype": "text/x-python",
   "name": "python",
   "nbconvert_exporter": "python",
   "pygments_lexer": "ipython3",
   "version": "3.10.12"
  }
 },
 "nbformat": 4,
 "nbformat_minor": 2
}
