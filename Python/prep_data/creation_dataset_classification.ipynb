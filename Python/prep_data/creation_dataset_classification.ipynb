{
 "cells": [
  {
   "cell_type": "code",
   "execution_count": null,
   "metadata": {},
   "outputs": [],
   "source": [
    "import os\n",
    "import pandas as pd\n",
    "from sklearn.model_selection import train_test_split\n",
    "import shutil\n",
    "from tqdm import tqdm\n",
    "\n",
    "# Données d'entrées\n",
    "\n",
    "# dossier contenant les tuiles \n",
    "LAME_DIR_F=\"/\"\n",
    "LAME_DIR_G=\"/\"\n",
    "\n",
    "# Dossier test \n",
    "TEST_DIR=\"/Test/\"\n",
    "\n",
    "if not os.path.exists(TEST_DIR):\n",
    "    os.makedirs(TEST_DIR)\n",
    "\n",
    "# Dossier train\n",
    "TRAIN_DIR=\"/Train/\"\n",
    "\n",
    "if not os.path.exists(TRAIN_DIR):\n",
    "    os.makedirs(TRAIN_DIR)\n",
    "    os.makedirs(TRAIN_DIR+\"lit/\")\n",
    "    os.makedirs(TRAIN_DIR+\"background/\")\n",
    "\n",
    "# Dossier valid \n",
    "VALID_DIR=\"/Valid/\"\n",
    "\n",
    "if not os.path.exists(VALID_DIR):\n",
    "    os.makedirs(VALID_DIR)\n",
    "    os.makedirs(VALID_DIR+\"lit/\")\n",
    "    os.makedirs(VALID_DIR+\"background/\")"
   ]
  },
  {
   "cell_type": "code",
   "execution_count": null,
   "metadata": {},
   "outputs": [],
   "source": [
    "# Création de la partie 10% Test et 90% entrainement \n",
    "\n",
    "lame_f = os.listdir(LAME_DIR_F)\n",
    "df_f = pd.DataFrame({\"Nom des Lames\": lame_f})\n",
    "Train_f, Test_f= train_test_split(df_f, test_size=0.1, random_state=10)\n",
    "print(Train_f.shape)\n",
    "print(Test_f.shape)\n",
    "\n",
    "lame_g = os.listdir(LAME_DIR_G)\n",
    "df_g = pd.DataFrame({\"Nom des Lames\": lame_g})\n",
    "Train_g, Test_g= train_test_split(df_g, test_size=0.2, random_state=10)\n",
    "print(Train_g.shape)\n",
    "print(Test_g.shape)\n",
    "\n",
    "Train=pd.concat([Train_f,Train_g],axis=0)\n",
    "Test=pd.concat([Test_f,Test_g],axis=0)\n",
    "\n",
    "print(Train.shape)\n",
    "print(Test.shape)"
   ]
  },
  {
   "cell_type": "code",
   "execution_count": null,
   "metadata": {},
   "outputs": [],
   "source": [
    "# Enregistrement des lames dans Test\n",
    "\n",
    "for dossier in tqdm(Test[\"Nom des Lames\"]):\n",
    "    if os.path.isdir(LAME_DIR_F+dossier):\n",
    "        \n",
    "        shutil.copytree(LAME_DIR_F+dossier, TEST_DIR+dossier)\n",
    "        \n",
    "    elif os.path.isdir(LAME_DIR_G+dossier):\n",
    "        \n",
    "        shutil.copytree(LAME_DIR_G+dossier, TEST_DIR+dossier)\n",
    "    else : \n",
    "        print(\"ERREUR \",dossier,\"non trouvé\")"
   ]
  },
  {
   "cell_type": "code",
   "execution_count": null,
   "metadata": {},
   "outputs": [],
   "source": [
    "# Créé dataset avec tuiles et non lames afin de pouvoir les mélanger \n",
    "\n",
    "df_Train_lit=[]\n",
    "df_Train_background=[]\n",
    "for lame in tqdm(Train[\"Nom des Lames\"]):\n",
    "    if os.path.isdir(LAME_DIR_F+lame):\n",
    "        tile_lit=os.listdir(LAME_DIR_F+lame+\"/lit\")\n",
    "        df_Train_lit.extend(tile_lit)\n",
    "        tile_background=os.listdir(LAME_DIR_F+lame+\"/background\")\n",
    "        df_Train_background.extend(tile_background)\n",
    "    elif os.path.isdir(LAME_DIR_G+lame):\n",
    "        tile_lit=os.listdir(LAME_DIR_G+lame+\"/lit\")\n",
    "        df_Train_lit.extend(tile_lit)\n",
    "        tile_background=os.listdir(LAME_DIR_G+lame+\"/background\")\n",
    "        df_Train_background.extend(tile_background)   \n",
    "\n",
    "df_lit = pd.DataFrame({'Tile': df_Train_lit})\n",
    "print(df_lit.shape)\n",
    "\n",
    "df_temp_background=pd.DataFrame({'Tile': df_Train_background})\n",
    "print(df_temp_background.shape)"
   ]
  },
  {
   "cell_type": "code",
   "execution_count": null,
   "metadata": {},
   "outputs": [],
   "source": [
    "# Séparation du lit en 80% Train et 20% Valid\n",
    "\n",
    "df_train_lit,df_valid_lit= train_test_split(df_lit, test_size=0.2, random_state=42)\n",
    "\n",
    "print(df_train_lit.shape)\n",
    "print(df_valid_lit.shape)"
   ]
  },
  {
   "cell_type": "code",
   "execution_count": null,
   "metadata": {},
   "outputs": [],
   "source": [
    "# Enregistrement des tuiles lit pour Train \n",
    "\n",
    "x=0\n",
    "for fichier in tqdm(df_train_lit[\"Tile\"]):\n",
    "    x+=1\n",
    "    if x>0:\n",
    "        f=fichier.split(\" \")\n",
    "        if os.path.isdir(LAME_DIR_F+f[0]):\n",
    "            \n",
    "            shutil.copy(LAME_DIR_F+f[0]+\"/lit/\"+fichier, TRAIN_DIR+\"lit/\"+fichier)\n",
    "            p=fichier.split(\".\")\n",
    "        elif os.path.isdir(LAME_DIR_G+f[0]):\n",
    "            \n",
    "            shutil.copy(LAME_DIR_G+f[0]+\"/lit/\"+fichier, TRAIN_DIR+\"lit/\"+fichier)\n",
    "            p=fichier.split(\".\")\n",
    "        else : \n",
    "            print(\"ERREUR \",fichier,\"non trouvé\")"
   ]
  },
  {
   "cell_type": "code",
   "execution_count": null,
   "metadata": {},
   "outputs": [],
   "source": [
    "# Enregistrement des tuiles lit pour Valid\n",
    "\n",
    "for fichier in tqdm(df_valid_lit[\"Tile\"]):\n",
    "    \n",
    "    f=fichier.split(\" \")\n",
    "    if os.path.isdir(LAME_DIR_F+f[0]):\n",
    "        \n",
    "        shutil.copy(LAME_DIR_F+f[0]+\"/lit/\"+fichier, VALID_DIR+\"lit/\"+fichier)\n",
    "        p=fichier.split(\".\")\n",
    "    elif os.path.isdir(LAME_DIR_G+f[0]):\n",
    "        \n",
    "        shutil.copy(LAME_DIR_G+f[0]+\"/lit/\"+fichier, VALID_DIR+\"lit/\"+fichier)\n",
    "        p=fichier.split(\".\")\n",
    "    else : \n",
    "        print(\"ERREUR \",fichier,\"non trouvé\")"
   ]
  },
  {
   "cell_type": "code",
   "execution_count": null,
   "metadata": {},
   "outputs": [],
   "source": [
    "# Créationn background avec même nombre de tuile que pour le lit\n",
    "\n",
    "df_background = df_temp_background.sample(n=df_lit.shape[0], random_state=42)\n",
    "print(df_background.shape)\n"
   ]
  },
  {
   "cell_type": "code",
   "execution_count": null,
   "metadata": {},
   "outputs": [],
   "source": [
    "# Séparation 80% Train et 20% Valid pour backgroud \n",
    "\n",
    "df_train_background,df_valid_background= train_test_split(df_background, test_size=0.2, random_state=42)\n",
    "\n",
    "print(df_train_background.shape)\n",
    "print(df_valid_background.shape)"
   ]
  },
  {
   "cell_type": "code",
   "execution_count": null,
   "metadata": {},
   "outputs": [],
   "source": [
    "# Enregistrement des tuiles background pour Train \n",
    "\n",
    "x=0\n",
    "for fichier in tqdm(df_train_background[\"Tile\"]):\n",
    "    x=x+1\n",
    "    if x>0:\n",
    "        f=fichier.split(\" \")\n",
    "        if os.path.isdir(LAME_DIR_F+f[0]):\n",
    "            \n",
    "            shutil.copy(LAME_DIR_F+f[0]+\"/background/\"+fichier, TRAIN_DIR+\"background/\"+fichier)\n",
    "            p=fichier.split(\".\")\n",
    "        elif os.path.isdir(LAME_DIR_G+f[0]):\n",
    "            \n",
    "            shutil.copy(LAME_DIR_G+f[0]+\"/background/\"+fichier, TRAIN_DIR+\"background/\"+fichier)\n",
    "            p=fichier.split(\".\")\n",
    "        else : \n",
    "            print(\"ERREUR \",fichier,\"non trouvé\")"
   ]
  },
  {
   "cell_type": "code",
   "execution_count": null,
   "metadata": {},
   "outputs": [],
   "source": [
    "# Enregistrement des tuiles background pour Valid \n",
    "\n",
    "\n",
    "x=0\n",
    "for fichier in tqdm(df_valid_background[\"Tile\"]):\n",
    "    x+=1\n",
    "    if x>0:\n",
    "        f=fichier.split(\" \")\n",
    "        if os.path.isdir(LAME_DIR_F+f[0]):\n",
    "            \n",
    "            shutil.copy(LAME_DIR_F+f[0]+\"/background/\"+fichier, VALID_DIR+\"background/\"+fichier)\n",
    "            p=fichier.split(\".\")\n",
    "        elif os.path.isdir(LAME_DIR_G+f[0]):\n",
    "            \n",
    "            shutil.copy(LAME_DIR_G+f[0]+\"/background/\"+fichier, VALID_DIR+\"background/\"+fichier)\n",
    "            p=fichier.split(\".\")\n",
    "        else : \n",
    "            print(\"ERREUR \",fichier,\"non trouvé\")"
   ]
  }
 ],
 "metadata": {
  "kernelspec": {
   "display_name": "Python 3",
   "language": "python",
   "name": "python3"
  },
  "language_info": {
   "codemirror_mode": {
    "name": "ipython",
    "version": 3
   },
   "file_extension": ".py",
   "mimetype": "text/x-python",
   "name": "python",
   "nbconvert_exporter": "python",
   "pygments_lexer": "ipython3",
   "version": "3.10.12"
  }
 },
 "nbformat": 4,
 "nbformat_minor": 2
}
